{
  "nbformat": 4,
  "nbformat_minor": 0,
  "metadata": {
    "colab": {
      "provenance": [],
      "authorship_tag": "ABX9TyOrmDwZO5UzMFLpo6eWuj2w",
      "include_colab_link": true
    },
    "kernelspec": {
      "name": "python3",
      "display_name": "Python 3"
    },
    "language_info": {
      "name": "python"
    }
  },
  "cells": [
    {
      "cell_type": "markdown",
      "metadata": {
        "id": "view-in-github",
        "colab_type": "text"
      },
      "source": [
        "<a href=\"https://colab.research.google.com/github/Ps1012/PRABHJOT_SINGH/blob/main/data_analysis.ipynb\" target=\"_parent\"><img src=\"https://colab.research.google.com/assets/colab-badge.svg\" alt=\"Open In Colab\"/></a>"
      ]
    },
    {
      "cell_type": "code",
      "execution_count": null,
      "metadata": {
        "colab": {
          "base_uri": "https://localhost:8080/"
        },
        "id": "FODmL1YuafTk",
        "outputId": "7a1333b5-95ac-42ca-d965-95255b3463c2"
      },
      "outputs": [
        {
          "output_type": "stream",
          "name": "stdout",
          "text": [
            "no. of male: 676\n",
            "no. of female: 662\n"
          ]
        }
      ],
      "source": [
        "import pandas as pd\n",
        "df=pd.read_csv(\"insurance.csv\")\n",
        "male=df[df[\"sex\"]==\"male\"][\"sex\"].count()\n",
        "female=df[df[\"sex\"]==\"female\"][\"sex\"].count()\n",
        "print(\"no. of male:\",male)\n",
        "print(\"no. of female:\",female)"
      ]
    },
    {
      "cell_type": "code",
      "source": [
        "import pandas as pd\n",
        "df=pd.read_csv(\"insurance.csv\")\n",
        "smoker=df[df[\"smoker\"]==\"yes\"][\"smoker\"].count()\n",
        "non_smoker=df[df[\"smoker\"]==\"no\"][\"smoker\"].count()\n",
        "print(\"no. of smokers:\",smoker)\n",
        "print(\"no. of non smokers:\",non_smoker)"
      ],
      "metadata": {
        "colab": {
          "base_uri": "https://localhost:8080/"
        },
        "id": "zIFi7pW2a9BQ",
        "outputId": "0f056fd0-4fee-48a1-ece4-99e2d6af30e5"
      },
      "execution_count": null,
      "outputs": [
        {
          "output_type": "stream",
          "name": "stdout",
          "text": [
            "no. of smokers: 274\n",
            "no. of non smokers: 1064\n"
          ]
        }
      ]
    },
    {
      "cell_type": "code",
      "source": [
        "import pandas as pd\n",
        "df=pd.read_csv(\"insurance.csv\")\n",
        "south_west=df[df[\"region\"]==\"southwest\"][\"region\"].count()\n",
        "north_west=df[df[\"region\"]==\"northwest\"][\"region\"].count()\n",
        "south_east=df[df[\"region\"]==\"southeast\"][\"region\"].count()\n",
        "north_east=df[df[\"region\"]==\"northeast\"][\"region\"].count()\n",
        "print(\"south west:\",south_west)\n",
        "print(\"north west:\",north_west)\n",
        "print(\"south east:\",south_east)\n",
        "print(\"north east:\",north_east)\n"
      ],
      "metadata": {
        "colab": {
          "base_uri": "https://localhost:8080/"
        },
        "id": "ckx-BmbHbCQm",
        "outputId": "0b6e54bd-46fc-44e3-f643-7a1e09136ce5"
      },
      "execution_count": null,
      "outputs": [
        {
          "output_type": "stream",
          "name": "stdout",
          "text": [
            "south west: 325\n",
            "north west: 325\n",
            "south east: 364\n",
            "north east: 324\n"
          ]
        }
      ]
    },
    {
      "cell_type": "code",
      "source": [
        "import pandas as pd\n",
        "df=pd.read_csv(\"insurance.csv\")\n",
        "smoker=df[df[\"smoker\"]==\"yes\"]\n",
        "non_smoker=df[df[\"smoker\"]==\"no\"]\n",
        "male_smoker=smoker[smoker[\"sex\"]==\"male\"][\"sex\"].count()\n",
        "male_non_smoker=non_smoker[non_smoker[\"sex\"]==\"male\"][\"sex\"].count()\n",
        "female_smoker=smoker[smoker[\"sex\"]==\"female\"][\"sex\"].count()\n",
        "female_non_smoker=non_smoker[non_smoker[\"sex\"]==\"female\"][\"sex\"].count()\n",
        "print(\"no. of male smoker:\",male_smoker)\n",
        "print(\"no. of male non smoker:\",male_non_smoker)\n",
        "print(\"no. of female smoker:\",female_smoker)\n",
        "print(\"no. of female non smoker:\",female_non_smoker)\n"
      ],
      "metadata": {
        "colab": {
          "base_uri": "https://localhost:8080/"
        },
        "id": "_qImnId6bI6n",
        "outputId": "c71f0685-2c2c-4365-e360-3059ef255290"
      },
      "execution_count": null,
      "outputs": [
        {
          "output_type": "stream",
          "name": "stdout",
          "text": [
            "no. of male smoker: 159\n",
            "no. of male non smoker: 517\n",
            "no. of female smoker: 115\n",
            "no. of female non smoker: 547\n"
          ]
        }
      ]
    },
    {
      "cell_type": "code",
      "source": [],
      "metadata": {
        "id": "iUKBdppZbp75"
      },
      "execution_count": null,
      "outputs": []
    }
  ]
}